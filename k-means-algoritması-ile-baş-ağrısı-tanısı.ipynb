{
 "cells": [
  {
   "cell_type": "code",
   "execution_count": null,
   "id": "743f5e33",
   "metadata": {
    "execution": {
     "iopub.execute_input": "2023-01-02T12:42:48.784666Z",
     "iopub.status.busy": "2023-01-02T12:42:48.784012Z",
     "iopub.status.idle": "2023-01-02T12:42:50.414705Z",
     "shell.execute_reply": "2023-01-02T12:42:50.413242Z"
    },
    "papermill": {
     "duration": 1.646779,
     "end_time": "2023-01-02T12:42:50.418585",
     "exception": false,
     "start_time": "2023-01-02T12:42:48.771806",
     "status": "completed"
    },
    "tags": []
   },
   "outputs": [],
   "source": [
    "import pandas as pd\n",
    "pd.options.mode.chained_assignment = None  # default='warn'\n",
    "import numpy as np\n",
    "import matplotlib.pyplot as plt\n",
    "import seaborn as sns\n",
    "# Set the styles to Seaborn\n",
    "sns.set()\n",
    "# Import the KMeans module so we can perform k-means clustering with sklearn\n",
    "from sklearn.cluster import KMeans"
   ]
  },
  {
   "cell_type": "markdown",
   "id": "36cad15b",
   "metadata": {
    "papermill": {
     "duration": 0.015745,
     "end_time": "2023-01-02T12:42:50.449012",
     "exception": false,
     "start_time": "2023-01-02T12:42:50.433267",
     "status": "completed"
    },
    "tags": []
   },
   "source": [
    "**K-Means Nasıl Çalışır**"
   ]
  },
  {
   "cell_type": "markdown",
   "id": "7f4f58c8",
   "metadata": {
    "papermill": {
     "duration": 0.010142,
     "end_time": "2023-01-02T12:42:50.469912",
     "exception": false,
     "start_time": "2023-01-02T12:42:50.459770",
     "status": "completed"
    },
    "tags": []
   },
   "source": [
    "K-means algoritmasının çalışma mekanizmasına göre öncelikle her kümenin merkez noktasını veya ortalamasını temsil etmek üzere K adet nesne rastgele seçilir. Kalan diğer nesneler, kümelerin ortalama değerlerine olan uzaklıkları dikkate alınarak en benzer oldukları kümelere dahil edilir. Daha sonra, her bir kümenin ortalama değeri hesaplanarak yeni küme merkezleri belirlenir ve tekrar nesnelerin merkeze uzaklıkları incelenir. Herhangi bir değişim olmayıncaya kadar algoritma tekrarlamaya devam eder."
   ]
  },
  {
   "cell_type": "markdown",
   "id": "4f36396e",
   "metadata": {
    "papermill": {
     "duration": 0.013733,
     "end_time": "2023-01-02T12:42:50.496610",
     "exception": false,
     "start_time": "2023-01-02T12:42:50.482877",
     "status": "completed"
    },
    "tags": []
   },
   "source": [
    "Algoritma temel olarak 4 aşamadan oluşur:\n",
    "\n",
    "1. Küme merkezlerinin belirlenmesi\n",
    "2. Merkez dışındaki verilerin mesafelerine göre kümelendirilmesi\n",
    "3. Yapılan kümelendirmeye göre yeni merkezlerin belirlenmesi (veya eski merkezlerin yeni merkeze kaydırılması)\n",
    "4. Kararlı hale (stable state) gelinene kadar 2. ve 3. adımların tekrarlanması."
   ]
  },
  {
   "cell_type": "markdown",
   "id": "bbb0edc0",
   "metadata": {
    "papermill": {
     "duration": 0.012409,
     "end_time": "2023-01-02T12:42:50.521907",
     "exception": false,
     "start_time": "2023-01-02T12:42:50.509498",
     "status": "completed"
    },
    "tags": []
   },
   "source": [
    "Elbow metodu; noktaların her K değerine göre küme merkezine uzaklıklarının karesi toplamı hesaplanmaktadır. Bu değerlere göre her K değeri için grafik çizilmektedir. Grafik üzerinde toplamlar arasındaki farkın azalmaya başladığı dirsek noktası en uygun K değeri olarak belirlenmektedir. Dirsek yöntemi olarak da bilinir."
   ]
  },
  {
   "cell_type": "markdown",
   "id": "b3b169af",
   "metadata": {
    "papermill": {
     "duration": 0.012296,
     "end_time": "2023-01-02T12:42:50.548864",
     "exception": false,
     "start_time": "2023-01-02T12:42:50.536568",
     "status": "completed"
    },
    "tags": []
   },
   "source": [
    "Öncelikle bir çok konuda olduğu gibi ideal küme sayısını neye göre seçeceğimizi belirleyecek bir metrik olmalıdır. Kümelemedeki temel mantığı hatırlayalım: Birbirine benzeyenler, yakın olanlar aynı kümede olsun birbirine benzemeyenlerle mümkün olduğunca uzak olsunlar. Bunu sağlayacak bir metrik var: Within Clusters Sum of Square (WCSS) Türkçesi şöyle: Kümeler içi kareler toplamı."
   ]
  },
  {
   "cell_type": "markdown",
   "id": "f2daa335",
   "metadata": {
    "papermill": {
     "duration": 0.012189,
     "end_time": "2023-01-02T12:42:50.573843",
     "exception": false,
     "start_time": "2023-01-02T12:42:50.561654",
     "status": "completed"
    },
    "tags": []
   },
   "source": [
    "Korelasyon, olasılık kuramı ve istatistikte iki rassal değişken arasındaki doğrusal ilişkinin yönünü ve gücünü belirtir. Genel istatistiksel kullanımda korelasyon, bağımsızlık durumundan ne kadar uzaklaşıldığını gösterir."
   ]
  },
  {
   "cell_type": "markdown",
   "id": "253d9e5e",
   "metadata": {
    "papermill": {
     "duration": 0.012191,
     "end_time": "2023-01-02T12:42:50.598745",
     "exception": false,
     "start_time": "2023-01-02T12:42:50.586554",
     "status": "completed"
    },
    "tags": []
   },
   "source": [
    "Örneklem korelasyon katsayısı mümkün uçsal değerler olan -1 veya +1 olursa, çok iyi iki değişken arasında çok iyi bir doğrusal bağlantı bulunduğu kabul edilir."
   ]
  },
  {
   "cell_type": "markdown",
   "id": "21ab64d4",
   "metadata": {
    "papermill": {
     "duration": 0.012323,
     "end_time": "2023-01-02T12:42:50.623693",
     "exception": false,
     "start_time": "2023-01-02T12:42:50.611370",
     "status": "completed"
    },
    "tags": []
   },
   "source": [
    "# **K-Means Algoritması İle Baş Ağrısı Tanısı**"
   ]
  },
  {
   "cell_type": "code",
   "execution_count": null,
   "id": "56491fb8",
   "metadata": {
    "execution": {
     "iopub.execute_input": "2023-01-02T12:42:50.650909Z",
     "iopub.status.busy": "2023-01-02T12:42:50.650409Z",
     "iopub.status.idle": "2023-01-02T12:42:50.678527Z",
     "shell.execute_reply": "2023-01-02T12:42:50.677146Z"
    },
    "papermill": {
     "duration": 0.044934,
     "end_time": "2023-01-02T12:42:50.681306",
     "exception": false,
     "start_time": "2023-01-02T12:42:50.636372",
     "status": "completed"
    },
    "tags": []
   },
   "outputs": [],
   "source": [
    "dataset = pd.read_csv(\"/kaggle/input/migraine-classification/data.csv\") \n",
    "#dataseti tanımladık"
   ]
  },
  {
   "cell_type": "code",
   "execution_count": null,
   "id": "2be92d51",
   "metadata": {
    "execution": {
     "iopub.execute_input": "2023-01-02T12:42:50.701979Z",
     "iopub.status.busy": "2023-01-02T12:42:50.700943Z",
     "iopub.status.idle": "2023-01-02T12:42:50.711936Z",
     "shell.execute_reply": "2023-01-02T12:42:50.710899Z"
    },
    "papermill": {
     "duration": 0.024053,
     "end_time": "2023-01-02T12:42:50.714765",
     "exception": false,
     "start_time": "2023-01-02T12:42:50.690712",
     "status": "completed"
    },
    "tags": []
   },
   "outputs": [
    {
     "data": {
      "text/plain": [
       "(400, 24)"
      ]
     },
     "execution_count": 3,
     "metadata": {},
     "output_type": "execute_result"
    }
   ],
   "source": [
    "dataset.shape\n",
    "# kaç veriyle uğraşıyoruz bir bakalım"
   ]
  },
  {
   "cell_type": "code",
   "execution_count": null,
   "id": "3cea6934",
   "metadata": {
    "execution": {
     "iopub.execute_input": "2023-01-02T12:42:50.736151Z",
     "iopub.status.busy": "2023-01-02T12:42:50.735370Z",
     "iopub.status.idle": "2023-01-02T12:42:50.767792Z",
     "shell.execute_reply": "2023-01-02T12:42:50.766731Z"
    },
    "papermill": {
     "duration": 0.046085,
     "end_time": "2023-01-02T12:42:50.770563",
     "exception": false,
     "start_time": "2023-01-02T12:42:50.724478",
     "status": "completed"
    },
    "tags": []
   },
   "outputs": [
    {
     "data": {
      "text/html": [
       "<div>\n",
       "<style scoped>\n",
       "    .dataframe tbody tr th:only-of-type {\n",
       "        vertical-align: middle;\n",
       "    }\n",
       "\n",
       "    .dataframe tbody tr th {\n",
       "        vertical-align: top;\n",
       "    }\n",
       "\n",
       "    .dataframe thead th {\n",
       "        text-align: right;\n",
       "    }\n",
       "</style>\n",
       "<table border=\"1\" class=\"dataframe\">\n",
       "  <thead>\n",
       "    <tr style=\"text-align: right;\">\n",
       "      <th></th>\n",
       "      <th>Age</th>\n",
       "      <th>Duration</th>\n",
       "      <th>Frequency</th>\n",
       "      <th>Location</th>\n",
       "      <th>Character</th>\n",
       "      <th>Intensity</th>\n",
       "      <th>Nausea</th>\n",
       "      <th>Vomit</th>\n",
       "      <th>Phonophobia</th>\n",
       "      <th>Photophobia</th>\n",
       "      <th>...</th>\n",
       "      <th>Vertigo</th>\n",
       "      <th>Tinnitus</th>\n",
       "      <th>Hypoacusis</th>\n",
       "      <th>Diplopia</th>\n",
       "      <th>Defect</th>\n",
       "      <th>Ataxia</th>\n",
       "      <th>Conscience</th>\n",
       "      <th>Paresthesia</th>\n",
       "      <th>DPF</th>\n",
       "      <th>Type</th>\n",
       "    </tr>\n",
       "  </thead>\n",
       "  <tbody>\n",
       "    <tr>\n",
       "      <th>0</th>\n",
       "      <td>30</td>\n",
       "      <td>1</td>\n",
       "      <td>5</td>\n",
       "      <td>1</td>\n",
       "      <td>1</td>\n",
       "      <td>2</td>\n",
       "      <td>1</td>\n",
       "      <td>0</td>\n",
       "      <td>1</td>\n",
       "      <td>1</td>\n",
       "      <td>...</td>\n",
       "      <td>0</td>\n",
       "      <td>0</td>\n",
       "      <td>0</td>\n",
       "      <td>0</td>\n",
       "      <td>0</td>\n",
       "      <td>0</td>\n",
       "      <td>0</td>\n",
       "      <td>0</td>\n",
       "      <td>0</td>\n",
       "      <td>Typical aura with migraine</td>\n",
       "    </tr>\n",
       "    <tr>\n",
       "      <th>1</th>\n",
       "      <td>50</td>\n",
       "      <td>3</td>\n",
       "      <td>5</td>\n",
       "      <td>1</td>\n",
       "      <td>1</td>\n",
       "      <td>3</td>\n",
       "      <td>1</td>\n",
       "      <td>1</td>\n",
       "      <td>1</td>\n",
       "      <td>1</td>\n",
       "      <td>...</td>\n",
       "      <td>1</td>\n",
       "      <td>0</td>\n",
       "      <td>0</td>\n",
       "      <td>0</td>\n",
       "      <td>0</td>\n",
       "      <td>0</td>\n",
       "      <td>0</td>\n",
       "      <td>0</td>\n",
       "      <td>0</td>\n",
       "      <td>Typical aura with migraine</td>\n",
       "    </tr>\n",
       "    <tr>\n",
       "      <th>2</th>\n",
       "      <td>53</td>\n",
       "      <td>2</td>\n",
       "      <td>1</td>\n",
       "      <td>1</td>\n",
       "      <td>1</td>\n",
       "      <td>2</td>\n",
       "      <td>1</td>\n",
       "      <td>1</td>\n",
       "      <td>1</td>\n",
       "      <td>1</td>\n",
       "      <td>...</td>\n",
       "      <td>0</td>\n",
       "      <td>0</td>\n",
       "      <td>0</td>\n",
       "      <td>0</td>\n",
       "      <td>0</td>\n",
       "      <td>0</td>\n",
       "      <td>0</td>\n",
       "      <td>0</td>\n",
       "      <td>0</td>\n",
       "      <td>Typical aura with migraine</td>\n",
       "    </tr>\n",
       "    <tr>\n",
       "      <th>3</th>\n",
       "      <td>45</td>\n",
       "      <td>3</td>\n",
       "      <td>5</td>\n",
       "      <td>1</td>\n",
       "      <td>1</td>\n",
       "      <td>3</td>\n",
       "      <td>1</td>\n",
       "      <td>0</td>\n",
       "      <td>1</td>\n",
       "      <td>1</td>\n",
       "      <td>...</td>\n",
       "      <td>1</td>\n",
       "      <td>0</td>\n",
       "      <td>0</td>\n",
       "      <td>0</td>\n",
       "      <td>0</td>\n",
       "      <td>0</td>\n",
       "      <td>0</td>\n",
       "      <td>0</td>\n",
       "      <td>0</td>\n",
       "      <td>Typical aura with migraine</td>\n",
       "    </tr>\n",
       "    <tr>\n",
       "      <th>4</th>\n",
       "      <td>53</td>\n",
       "      <td>1</td>\n",
       "      <td>1</td>\n",
       "      <td>1</td>\n",
       "      <td>1</td>\n",
       "      <td>2</td>\n",
       "      <td>1</td>\n",
       "      <td>0</td>\n",
       "      <td>1</td>\n",
       "      <td>1</td>\n",
       "      <td>...</td>\n",
       "      <td>0</td>\n",
       "      <td>0</td>\n",
       "      <td>0</td>\n",
       "      <td>0</td>\n",
       "      <td>0</td>\n",
       "      <td>0</td>\n",
       "      <td>0</td>\n",
       "      <td>0</td>\n",
       "      <td>1</td>\n",
       "      <td>Typical aura with migraine</td>\n",
       "    </tr>\n",
       "  </tbody>\n",
       "</table>\n",
       "<p>5 rows × 24 columns</p>\n",
       "</div>"
      ],
      "text/plain": [
       "   Age  Duration  Frequency  Location  Character  Intensity  Nausea  Vomit  \\\n",
       "0   30         1          5         1          1          2       1      0   \n",
       "1   50         3          5         1          1          3       1      1   \n",
       "2   53         2          1         1          1          2       1      1   \n",
       "3   45         3          5         1          1          3       1      0   \n",
       "4   53         1          1         1          1          2       1      0   \n",
       "\n",
       "   Phonophobia  Photophobia  ...  Vertigo  Tinnitus  Hypoacusis  Diplopia  \\\n",
       "0            1            1  ...        0         0           0         0   \n",
       "1            1            1  ...        1         0           0         0   \n",
       "2            1            1  ...        0         0           0         0   \n",
       "3            1            1  ...        1         0           0         0   \n",
       "4            1            1  ...        0         0           0         0   \n",
       "\n",
       "   Defect  Ataxia  Conscience  Paresthesia  DPF                        Type  \n",
       "0       0       0           0            0    0  Typical aura with migraine  \n",
       "1       0       0           0            0    0  Typical aura with migraine  \n",
       "2       0       0           0            0    0  Typical aura with migraine  \n",
       "3       0       0           0            0    0  Typical aura with migraine  \n",
       "4       0       0           0            0    1  Typical aura with migraine  \n",
       "\n",
       "[5 rows x 24 columns]"
      ]
     },
     "execution_count": 4,
     "metadata": {},
     "output_type": "execute_result"
    }
   ],
   "source": [
    "dataset.head()\n",
    "#ilk 5 satırı yazdırdık"
   ]
  },
  {
   "cell_type": "code",
   "execution_count": null,
   "id": "50e76d74",
   "metadata": {
    "execution": {
     "iopub.execute_input": "2023-01-02T12:42:50.793622Z",
     "iopub.status.busy": "2023-01-02T12:42:50.792786Z",
     "iopub.status.idle": "2023-01-02T12:42:50.812785Z",
     "shell.execute_reply": "2023-01-02T12:42:50.811383Z"
    },
    "papermill": {
     "duration": 0.034759,
     "end_time": "2023-01-02T12:42:50.815524",
     "exception": false,
     "start_time": "2023-01-02T12:42:50.780765",
     "status": "completed"
    },
    "tags": []
   },
   "outputs": [
    {
     "data": {
      "text/html": [
       "<div>\n",
       "<style scoped>\n",
       "    .dataframe tbody tr th:only-of-type {\n",
       "        vertical-align: middle;\n",
       "    }\n",
       "\n",
       "    .dataframe tbody tr th {\n",
       "        vertical-align: top;\n",
       "    }\n",
       "\n",
       "    .dataframe thead th {\n",
       "        text-align: right;\n",
       "    }\n",
       "</style>\n",
       "<table border=\"1\" class=\"dataframe\">\n",
       "  <thead>\n",
       "    <tr style=\"text-align: right;\">\n",
       "      <th></th>\n",
       "      <th>Age</th>\n",
       "      <th>Duration</th>\n",
       "      <th>Frequency</th>\n",
       "      <th>Nausea</th>\n",
       "      <th>Vomit</th>\n",
       "      <th>Visual</th>\n",
       "      <th>Vertigo</th>\n",
       "    </tr>\n",
       "  </thead>\n",
       "  <tbody>\n",
       "    <tr>\n",
       "      <th>0</th>\n",
       "      <td>30</td>\n",
       "      <td>1</td>\n",
       "      <td>5</td>\n",
       "      <td>1</td>\n",
       "      <td>0</td>\n",
       "      <td>1</td>\n",
       "      <td>0</td>\n",
       "    </tr>\n",
       "    <tr>\n",
       "      <th>1</th>\n",
       "      <td>50</td>\n",
       "      <td>3</td>\n",
       "      <td>5</td>\n",
       "      <td>1</td>\n",
       "      <td>1</td>\n",
       "      <td>2</td>\n",
       "      <td>1</td>\n",
       "    </tr>\n",
       "    <tr>\n",
       "      <th>2</th>\n",
       "      <td>53</td>\n",
       "      <td>2</td>\n",
       "      <td>1</td>\n",
       "      <td>1</td>\n",
       "      <td>1</td>\n",
       "      <td>2</td>\n",
       "      <td>0</td>\n",
       "    </tr>\n",
       "    <tr>\n",
       "      <th>3</th>\n",
       "      <td>45</td>\n",
       "      <td>3</td>\n",
       "      <td>5</td>\n",
       "      <td>1</td>\n",
       "      <td>0</td>\n",
       "      <td>2</td>\n",
       "      <td>1</td>\n",
       "    </tr>\n",
       "    <tr>\n",
       "      <th>4</th>\n",
       "      <td>53</td>\n",
       "      <td>1</td>\n",
       "      <td>1</td>\n",
       "      <td>1</td>\n",
       "      <td>0</td>\n",
       "      <td>4</td>\n",
       "      <td>0</td>\n",
       "    </tr>\n",
       "  </tbody>\n",
       "</table>\n",
       "</div>"
      ],
      "text/plain": [
       "   Age  Duration  Frequency  Nausea  Vomit  Visual  Vertigo\n",
       "0   30         1          5       1      0       1        0\n",
       "1   50         3          5       1      1       2        1\n",
       "2   53         2          1       1      1       2        0\n",
       "3   45         3          5       1      0       2        1\n",
       "4   53         1          1       1      0       4        0"
      ]
     },
     "execution_count": 5,
     "metadata": {},
     "output_type": "execute_result"
    }
   ],
   "source": [
    "columns = dataset.columns[np.r_[0:1,1:2,2:3,6:7,7:8,10:11,14:15]]\n",
    "fit_data = dataset[columns]\n",
    "fit_data.head()\n",
    "\n",
    "#inceleyeceğimiz 7 özellik seçtik "
   ]
  },
  {
   "cell_type": "markdown",
   "id": "8f0c74ae",
   "metadata": {
    "papermill": {
     "duration": 0.009822,
     "end_time": "2023-01-02T12:42:50.835348",
     "exception": false,
     "start_time": "2023-01-02T12:42:50.825526",
     "status": "completed"
    },
    "tags": []
   },
   "source": [
    "Verileri incelemek için standartlaştırma yapıyoruz."
   ]
  },
  {
   "cell_type": "markdown",
   "id": "d7594c6e",
   "metadata": {
    "papermill": {
     "duration": 0.009572,
     "end_time": "2023-01-02T12:42:50.854667",
     "exception": false,
     "start_time": "2023-01-02T12:42:50.845095",
     "status": "completed"
    },
    "tags": []
   },
   "source": [
    "Veriler 0-1 arasında  ölçeklenir."
   ]
  },
  {
   "cell_type": "code",
   "execution_count": null,
   "id": "68273782",
   "metadata": {
    "execution": {
     "iopub.execute_input": "2023-01-02T12:42:50.876745Z",
     "iopub.status.busy": "2023-01-02T12:42:50.876233Z",
     "iopub.status.idle": "2023-01-02T12:42:50.904746Z",
     "shell.execute_reply": "2023-01-02T12:42:50.903321Z"
    },
    "papermill": {
     "duration": 0.042995,
     "end_time": "2023-01-02T12:42:50.907619",
     "exception": false,
     "start_time": "2023-01-02T12:42:50.864624",
     "status": "completed"
    },
    "tags": []
   },
   "outputs": [
    {
     "data": {
      "text/html": [
       "<div>\n",
       "<style scoped>\n",
       "    .dataframe tbody tr th:only-of-type {\n",
       "        vertical-align: middle;\n",
       "    }\n",
       "\n",
       "    .dataframe tbody tr th {\n",
       "        vertical-align: top;\n",
       "    }\n",
       "\n",
       "    .dataframe thead th {\n",
       "        text-align: right;\n",
       "    }\n",
       "</style>\n",
       "<table border=\"1\" class=\"dataframe\">\n",
       "  <thead>\n",
       "    <tr style=\"text-align: right;\">\n",
       "      <th></th>\n",
       "      <th>Age</th>\n",
       "      <th>Duration</th>\n",
       "      <th>Frequency</th>\n",
       "      <th>Nausea</th>\n",
       "      <th>Vomit</th>\n",
       "      <th>Visual</th>\n",
       "      <th>Vertigo</th>\n",
       "    </tr>\n",
       "  </thead>\n",
       "  <tbody>\n",
       "    <tr>\n",
       "      <th>0</th>\n",
       "      <td>0.241935</td>\n",
       "      <td>0.0</td>\n",
       "      <td>0.571429</td>\n",
       "      <td>1.0</td>\n",
       "      <td>0.0</td>\n",
       "      <td>0.25</td>\n",
       "      <td>0.0</td>\n",
       "    </tr>\n",
       "    <tr>\n",
       "      <th>1</th>\n",
       "      <td>0.564516</td>\n",
       "      <td>1.0</td>\n",
       "      <td>0.571429</td>\n",
       "      <td>1.0</td>\n",
       "      <td>1.0</td>\n",
       "      <td>0.50</td>\n",
       "      <td>1.0</td>\n",
       "    </tr>\n",
       "    <tr>\n",
       "      <th>2</th>\n",
       "      <td>0.612903</td>\n",
       "      <td>0.5</td>\n",
       "      <td>0.000000</td>\n",
       "      <td>1.0</td>\n",
       "      <td>1.0</td>\n",
       "      <td>0.50</td>\n",
       "      <td>0.0</td>\n",
       "    </tr>\n",
       "    <tr>\n",
       "      <th>3</th>\n",
       "      <td>0.483871</td>\n",
       "      <td>1.0</td>\n",
       "      <td>0.571429</td>\n",
       "      <td>1.0</td>\n",
       "      <td>0.0</td>\n",
       "      <td>0.50</td>\n",
       "      <td>1.0</td>\n",
       "    </tr>\n",
       "    <tr>\n",
       "      <th>4</th>\n",
       "      <td>0.612903</td>\n",
       "      <td>0.0</td>\n",
       "      <td>0.000000</td>\n",
       "      <td>1.0</td>\n",
       "      <td>0.0</td>\n",
       "      <td>1.00</td>\n",
       "      <td>0.0</td>\n",
       "    </tr>\n",
       "  </tbody>\n",
       "</table>\n",
       "</div>"
      ],
      "text/plain": [
       "        Age  Duration  Frequency  Nausea  Vomit  Visual  Vertigo\n",
       "0  0.241935       0.0   0.571429     1.0    0.0    0.25      0.0\n",
       "1  0.564516       1.0   0.571429     1.0    1.0    0.50      1.0\n",
       "2  0.612903       0.5   0.000000     1.0    1.0    0.50      0.0\n",
       "3  0.483871       1.0   0.571429     1.0    0.0    0.50      1.0\n",
       "4  0.612903       0.0   0.000000     1.0    0.0    1.00      0.0"
      ]
     },
     "execution_count": 6,
     "metadata": {},
     "output_type": "execute_result"
    }
   ],
   "source": [
    "from sklearn import preprocessing\n",
    "scaler = preprocessing.MinMaxScaler()\n",
    "features_normal = scaler.fit_transform(fit_data)\n",
    "features_normal = pd.DataFrame(features_normal)\n",
    "features_normal.columns = fit_data.columns\n",
    "features_normal.head()"
   ]
  },
  {
   "cell_type": "markdown",
   "id": "a25ddfdf",
   "metadata": {
    "papermill": {
     "duration": 0.009797,
     "end_time": "2023-01-02T12:42:50.927655",
     "exception": false,
     "start_time": "2023-01-02T12:42:50.917858",
     "status": "completed"
    },
    "tags": []
   },
   "source": [
    "Korelasyonlara bakıp analiz edelim"
   ]
  },
  {
   "cell_type": "code",
   "execution_count": null,
   "id": "308c4160",
   "metadata": {
    "execution": {
     "iopub.execute_input": "2023-01-02T12:42:50.950575Z",
     "iopub.status.busy": "2023-01-02T12:42:50.950045Z",
     "iopub.status.idle": "2023-01-02T12:42:50.973366Z",
     "shell.execute_reply": "2023-01-02T12:42:50.971760Z"
    },
    "papermill": {
     "duration": 0.038473,
     "end_time": "2023-01-02T12:42:50.976361",
     "exception": false,
     "start_time": "2023-01-02T12:42:50.937888",
     "status": "completed"
    },
    "tags": []
   },
   "outputs": [
    {
     "data": {
      "text/html": [
       "<div>\n",
       "<style scoped>\n",
       "    .dataframe tbody tr th:only-of-type {\n",
       "        vertical-align: middle;\n",
       "    }\n",
       "\n",
       "    .dataframe tbody tr th {\n",
       "        vertical-align: top;\n",
       "    }\n",
       "\n",
       "    .dataframe thead th {\n",
       "        text-align: right;\n",
       "    }\n",
       "</style>\n",
       "<table border=\"1\" class=\"dataframe\">\n",
       "  <thead>\n",
       "    <tr style=\"text-align: right;\">\n",
       "      <th></th>\n",
       "      <th>Age</th>\n",
       "      <th>Duration</th>\n",
       "      <th>Frequency</th>\n",
       "      <th>Nausea</th>\n",
       "      <th>Vomit</th>\n",
       "      <th>Visual</th>\n",
       "      <th>Vertigo</th>\n",
       "    </tr>\n",
       "  </thead>\n",
       "  <tbody>\n",
       "    <tr>\n",
       "      <th>Age</th>\n",
       "      <td>1.000000</td>\n",
       "      <td>-0.045263</td>\n",
       "      <td>0.073431</td>\n",
       "      <td>0.006542</td>\n",
       "      <td>-0.028650</td>\n",
       "      <td>0.047605</td>\n",
       "      <td>-0.026967</td>\n",
       "    </tr>\n",
       "    <tr>\n",
       "      <th>Duration</th>\n",
       "      <td>-0.045263</td>\n",
       "      <td>1.000000</td>\n",
       "      <td>0.149240</td>\n",
       "      <td>-0.144654</td>\n",
       "      <td>-0.046468</td>\n",
       "      <td>-0.058876</td>\n",
       "      <td>0.122716</td>\n",
       "    </tr>\n",
       "    <tr>\n",
       "      <th>Frequency</th>\n",
       "      <td>0.073431</td>\n",
       "      <td>0.149240</td>\n",
       "      <td>1.000000</td>\n",
       "      <td>0.037977</td>\n",
       "      <td>0.133929</td>\n",
       "      <td>-0.225082</td>\n",
       "      <td>-0.064355</td>\n",
       "    </tr>\n",
       "    <tr>\n",
       "      <th>Nausea</th>\n",
       "      <td>0.006542</td>\n",
       "      <td>-0.144654</td>\n",
       "      <td>0.037977</td>\n",
       "      <td>1.000000</td>\n",
       "      <td>0.077624</td>\n",
       "      <td>-0.012787</td>\n",
       "      <td>-0.161592</td>\n",
       "    </tr>\n",
       "    <tr>\n",
       "      <th>Vomit</th>\n",
       "      <td>-0.028650</td>\n",
       "      <td>-0.046468</td>\n",
       "      <td>0.133929</td>\n",
       "      <td>0.077624</td>\n",
       "      <td>1.000000</td>\n",
       "      <td>-0.150679</td>\n",
       "      <td>-0.082881</td>\n",
       "    </tr>\n",
       "    <tr>\n",
       "      <th>Visual</th>\n",
       "      <td>0.047605</td>\n",
       "      <td>-0.058876</td>\n",
       "      <td>-0.225082</td>\n",
       "      <td>-0.012787</td>\n",
       "      <td>-0.150679</td>\n",
       "      <td>1.000000</td>\n",
       "      <td>0.134596</td>\n",
       "    </tr>\n",
       "    <tr>\n",
       "      <th>Vertigo</th>\n",
       "      <td>-0.026967</td>\n",
       "      <td>0.122716</td>\n",
       "      <td>-0.064355</td>\n",
       "      <td>-0.161592</td>\n",
       "      <td>-0.082881</td>\n",
       "      <td>0.134596</td>\n",
       "      <td>1.000000</td>\n",
       "    </tr>\n",
       "  </tbody>\n",
       "</table>\n",
       "</div>"
      ],
      "text/plain": [
       "                Age  Duration  Frequency    Nausea     Vomit    Visual  \\\n",
       "Age        1.000000 -0.045263   0.073431  0.006542 -0.028650  0.047605   \n",
       "Duration  -0.045263  1.000000   0.149240 -0.144654 -0.046468 -0.058876   \n",
       "Frequency  0.073431  0.149240   1.000000  0.037977  0.133929 -0.225082   \n",
       "Nausea     0.006542 -0.144654   0.037977  1.000000  0.077624 -0.012787   \n",
       "Vomit     -0.028650 -0.046468   0.133929  0.077624  1.000000 -0.150679   \n",
       "Visual     0.047605 -0.058876  -0.225082 -0.012787 -0.150679  1.000000   \n",
       "Vertigo   -0.026967  0.122716  -0.064355 -0.161592 -0.082881  0.134596   \n",
       "\n",
       "            Vertigo  \n",
       "Age       -0.026967  \n",
       "Duration   0.122716  \n",
       "Frequency -0.064355  \n",
       "Nausea    -0.161592  \n",
       "Vomit     -0.082881  \n",
       "Visual     0.134596  \n",
       "Vertigo    1.000000  "
      ]
     },
     "execution_count": 7,
     "metadata": {},
     "output_type": "execute_result"
    }
   ],
   "source": [
    "pd.DataFrame(features_normal).corr()"
   ]
  },
  {
   "cell_type": "markdown",
   "id": "610d738b",
   "metadata": {
    "papermill": {
     "duration": 0.010154,
     "end_time": "2023-01-02T12:42:50.997518",
     "exception": false,
     "start_time": "2023-01-02T12:42:50.987364",
     "status": "completed"
    },
    "tags": []
   },
   "source": [
    "Korelasyon değerleri 1 ve -1 arası değişir."
   ]
  },
  {
   "cell_type": "markdown",
   "id": "121603c3",
   "metadata": {
    "papermill": {
     "duration": 0.010124,
     "end_time": "2023-01-02T12:42:51.018802",
     "exception": false,
     "start_time": "2023-01-02T12:42:51.008678",
     "status": "completed"
    },
    "tags": []
   },
   "source": [
    "Bunlara bir de grafikle bakalım"
   ]
  },
  {
   "cell_type": "code",
   "execution_count": null,
   "id": "7e23dc95",
   "metadata": {
    "execution": {
     "iopub.execute_input": "2023-01-02T12:42:51.043095Z",
     "iopub.status.busy": "2023-01-02T12:42:51.042583Z",
     "iopub.status.idle": "2023-01-02T12:42:52.737799Z",
     "shell.execute_reply": "2023-01-02T12:42:52.736637Z"
    },
    "papermill": {
     "duration": 1.710892,
     "end_time": "2023-01-02T12:42:52.741008",
     "exception": false,
     "start_time": "2023-01-02T12:42:51.030116",
     "status": "completed"
    },
    "tags": []
   },
   "outputs": [
    {
     "data": {
      "image/png": "[encoded data removed]",
      "text/plain": [
       "<Figure size 1152x432 with 2 Axes>"
      ]
     },
     "metadata": {},
     "output_type": "display_data"
    }
   ],
   "source": [
    "plt.figure(figsize=(16, 6))\n",
    "heatmap = sns.heatmap(features_normal.corr(), vmin=-1, vmax=1, annot=True, cmap='BrBG')\n",
    "heatmap.set_title('Correlation Heatmap', fontdict={'fontsize':18}, pad=12);\n",
    "plt.savefig('heatmap.png', dpi=300, bbox_inches='tight')"
   ]
  },
  {
   "cell_type": "markdown",
   "id": "bb0d215c",
   "metadata": {
    "papermill": {
     "duration": 0.010775,
     "end_time": "2023-01-02T12:42:52.763515",
     "exception": false,
     "start_time": "2023-01-02T12:42:52.752740",
     "status": "completed"
    },
    "tags": []
   },
   "source": [
    "Dirsek methodu ile kaç kümeye ayırmamız gerektiğini bulucaz."
   ]
  },
  {
   "cell_type": "code",
   "execution_count": null,
   "id": "45b8f0fa",
   "metadata": {
    "execution": {
     "iopub.execute_input": "2023-01-02T12:42:52.787146Z",
     "iopub.status.busy": "2023-01-02T12:42:52.786727Z",
     "iopub.status.idle": "2023-01-02T12:42:53.280418Z",
     "shell.execute_reply": "2023-01-02T12:42:53.279220Z"
    },
    "papermill": {
     "duration": 0.508967,
     "end_time": "2023-01-02T12:42:53.283441",
     "exception": false,
     "start_time": "2023-01-02T12:42:52.774474",
     "status": "completed"
    },
    "tags": []
   },
   "outputs": [
    {
     "data": {
      "text/plain": [
       "[258.03804117933595,\n",
       " 169.203274247457,\n",
       " 132.86554967309564,\n",
       " 107.16350673126973,\n",
       " 90.80353272185943,\n",
       " 80.41699868451873,\n",
       " 74.81778071524641,\n",
       " 68.90320019078825,\n",
       " 62.08931558809725]"
      ]
     },
     "execution_count": 9,
     "metadata": {},
     "output_type": "execute_result"
    }
   ],
   "source": [
    "wcss = []\n",
    "for i in range (1,10):\n",
    "    kmeans= KMeans(i)\n",
    "    kmeans.fit(features_normal)\n",
    "    wcss.append(kmeans.inertia_)\n",
    "    \n",
    "wcss"
   ]
  },
  {
   "cell_type": "markdown",
   "id": "70be4683",
   "metadata": {
    "papermill": {
     "duration": 0.011377,
     "end_time": "2023-01-02T12:42:53.307816",
     "exception": false,
     "start_time": "2023-01-02T12:42:53.296439",
     "status": "completed"
    },
    "tags": []
   },
   "source": [
    "Verileri grafiğe dökelim"
   ]
  },
  {
   "cell_type": "code",
   "execution_count": null,
   "id": "1448d8f2",
   "metadata": {
    "execution": {
     "iopub.execute_input": "2023-01-02T12:42:53.333582Z",
     "iopub.status.busy": "2023-01-02T12:42:53.333150Z",
     "iopub.status.idle": "2023-01-02T12:42:53.639656Z",
     "shell.execute_reply": "2023-01-02T12:42:53.638365Z"
    },
    "papermill": {
     "duration": 0.322791,
     "end_time": "2023-01-02T12:42:53.642385",
     "exception": false,
     "start_time": "2023-01-02T12:42:53.319594",
     "status": "completed"
    },
    "tags": []
   },
   "outputs": [
    {
     "data": {
      "text/plain": [
       "Text(0, 0.5, 'WCSS')"
      ]
     },
     "execution_count": 10,
     "metadata": {},
     "output_type": "execute_result"
    },
    {
     "data": {
      "image/png": "[encoded data removed]",
      "text/plain": [
       "<Figure size 432x288 with 1 Axes>"
      ]
     },
     "metadata": {},
     "output_type": "display_data"
    }
   ],
   "source": [
    "plt.plot(range(1,10),wcss)\n",
    "plt.xlabel('Number of clusters')\n",
    "plt.ylabel('WCSS')"
   ]
  },
  {
   "cell_type": "markdown",
   "id": "01c2024c",
   "metadata": {
    "papermill": {
     "duration": 0.011503,
     "end_time": "2023-01-02T12:42:53.666064",
     "exception": false,
     "start_time": "2023-01-02T12:42:53.654561",
     "status": "completed"
    },
    "tags": []
   },
   "source": [
    "Grafiğin kıvrıldığı yere göre en iyi küme sayısını buluruz."
   ]
  },
  {
   "cell_type": "code",
   "execution_count": null,
   "id": "d29c2298",
   "metadata": {
    "execution": {
     "iopub.execute_input": "2023-01-02T12:42:53.690807Z",
     "iopub.status.busy": "2023-01-02T12:42:53.690400Z",
     "iopub.status.idle": "2023-01-02T12:42:53.756205Z",
     "shell.execute_reply": "2023-01-02T12:42:53.755229Z"
    },
    "papermill": {
     "duration": 0.081219,
     "end_time": "2023-01-02T12:42:53.758805",
     "exception": false,
     "start_time": "2023-01-02T12:42:53.677586",
     "status": "completed"
    },
    "tags": []
   },
   "outputs": [],
   "source": [
    "kmeans_new = KMeans(2)\n",
    "kmeans_new.fit(features_normal)\n",
    "clusters = dataset.copy()\n",
    "features_normal['cluster_pred'] = kmeans_new.fit_predict(features_normal)\n",
    "clusters['cluster_pred'] = kmeans_new.fit_predict(features_normal)\n",
    "#kümelenen değerleri hem standart hala getirdiğim features_normal'e hem de orijinal dataya cluster_pred ekledik"
   ]
  },
  {
   "cell_type": "code",
   "execution_count": null,
   "id": "2fa67f8e",
   "metadata": {
    "execution": {
     "iopub.execute_input": "2023-01-02T12:42:53.786408Z",
     "iopub.status.busy": "2023-01-02T12:42:53.785371Z",
     "iopub.status.idle": "2023-01-02T12:42:53.807747Z",
     "shell.execute_reply": "2023-01-02T12:42:53.806840Z"
    },
    "papermill": {
     "duration": 0.038016,
     "end_time": "2023-01-02T12:42:53.810400",
     "exception": false,
     "start_time": "2023-01-02T12:42:53.772384",
     "status": "completed"
    },
    "tags": []
   },
   "outputs": [
    {
     "data": {
      "text/html": [
       "<div>\n",
       "<style scoped>\n",
       "    .dataframe tbody tr th:only-of-type {\n",
       "        vertical-align: middle;\n",
       "    }\n",
       "\n",
       "    .dataframe tbody tr th {\n",
       "        vertical-align: top;\n",
       "    }\n",
       "\n",
       "    .dataframe thead th {\n",
       "        text-align: right;\n",
       "    }\n",
       "</style>\n",
       "<table border=\"1\" class=\"dataframe\">\n",
       "  <thead>\n",
       "    <tr style=\"text-align: right;\">\n",
       "      <th></th>\n",
       "      <th>Age</th>\n",
       "      <th>Duration</th>\n",
       "      <th>Frequency</th>\n",
       "      <th>Nausea</th>\n",
       "      <th>Vomit</th>\n",
       "      <th>Visual</th>\n",
       "      <th>Vertigo</th>\n",
       "      <th>cluster_pred</th>\n",
       "    </tr>\n",
       "  </thead>\n",
       "  <tbody>\n",
       "    <tr>\n",
       "      <th>0</th>\n",
       "      <td>0.241935</td>\n",
       "      <td>0.0</td>\n",
       "      <td>0.571429</td>\n",
       "      <td>1.0</td>\n",
       "      <td>0.0</td>\n",
       "      <td>0.25</td>\n",
       "      <td>0.0</td>\n",
       "      <td>0</td>\n",
       "    </tr>\n",
       "    <tr>\n",
       "      <th>1</th>\n",
       "      <td>0.564516</td>\n",
       "      <td>1.0</td>\n",
       "      <td>0.571429</td>\n",
       "      <td>1.0</td>\n",
       "      <td>1.0</td>\n",
       "      <td>0.50</td>\n",
       "      <td>1.0</td>\n",
       "      <td>1</td>\n",
       "    </tr>\n",
       "    <tr>\n",
       "      <th>2</th>\n",
       "      <td>0.612903</td>\n",
       "      <td>0.5</td>\n",
       "      <td>0.000000</td>\n",
       "      <td>1.0</td>\n",
       "      <td>1.0</td>\n",
       "      <td>0.50</td>\n",
       "      <td>0.0</td>\n",
       "      <td>1</td>\n",
       "    </tr>\n",
       "    <tr>\n",
       "      <th>3</th>\n",
       "      <td>0.483871</td>\n",
       "      <td>1.0</td>\n",
       "      <td>0.571429</td>\n",
       "      <td>1.0</td>\n",
       "      <td>0.0</td>\n",
       "      <td>0.50</td>\n",
       "      <td>1.0</td>\n",
       "      <td>0</td>\n",
       "    </tr>\n",
       "    <tr>\n",
       "      <th>4</th>\n",
       "      <td>0.612903</td>\n",
       "      <td>0.0</td>\n",
       "      <td>0.000000</td>\n",
       "      <td>1.0</td>\n",
       "      <td>0.0</td>\n",
       "      <td>1.00</td>\n",
       "      <td>0.0</td>\n",
       "      <td>0</td>\n",
       "    </tr>\n",
       "  </tbody>\n",
       "</table>\n",
       "</div>"
      ],
      "text/plain": [
       "        Age  Duration  Frequency  Nausea  Vomit  Visual  Vertigo  cluster_pred\n",
       "0  0.241935       0.0   0.571429     1.0    0.0    0.25      0.0             0\n",
       "1  0.564516       1.0   0.571429     1.0    1.0    0.50      1.0             1\n",
       "2  0.612903       0.5   0.000000     1.0    1.0    0.50      0.0             1\n",
       "3  0.483871       1.0   0.571429     1.0    0.0    0.50      1.0             0\n",
       "4  0.612903       0.0   0.000000     1.0    0.0    1.00      0.0             0"
      ]
     },
     "execution_count": 12,
     "metadata": {},
     "output_type": "execute_result"
    }
   ],
   "source": [
    "features_normal.head()"
   ]
  },
  {
   "cell_type": "code",
   "execution_count": null,
   "id": "ecb53eaf",
   "metadata": {
    "execution": {
     "iopub.execute_input": "2023-01-02T12:42:53.836612Z",
     "iopub.status.busy": "2023-01-02T12:42:53.835912Z",
     "iopub.status.idle": "2023-01-02T12:42:53.854982Z",
     "shell.execute_reply": "2023-01-02T12:42:53.853855Z"
    },
    "papermill": {
     "duration": 0.035105,
     "end_time": "2023-01-02T12:42:53.857727",
     "exception": false,
     "start_time": "2023-01-02T12:42:53.822622",
     "status": "completed"
    },
    "tags": []
   },
   "outputs": [
    {
     "data": {
      "text/html": [
       "<div>\n",
       "<style scoped>\n",
       "    .dataframe tbody tr th:only-of-type {\n",
       "        vertical-align: middle;\n",
       "    }\n",
       "\n",
       "    .dataframe tbody tr th {\n",
       "        vertical-align: top;\n",
       "    }\n",
       "\n",
       "    .dataframe thead th {\n",
       "        text-align: right;\n",
       "    }\n",
       "</style>\n",
       "<table border=\"1\" class=\"dataframe\">\n",
       "  <thead>\n",
       "    <tr style=\"text-align: right;\">\n",
       "      <th></th>\n",
       "      <th>Age</th>\n",
       "      <th>Duration</th>\n",
       "      <th>Frequency</th>\n",
       "      <th>Location</th>\n",
       "      <th>Character</th>\n",
       "      <th>Intensity</th>\n",
       "      <th>Nausea</th>\n",
       "      <th>Vomit</th>\n",
       "      <th>Phonophobia</th>\n",
       "      <th>Photophobia</th>\n",
       "      <th>...</th>\n",
       "      <th>Tinnitus</th>\n",
       "      <th>Hypoacusis</th>\n",
       "      <th>Diplopia</th>\n",
       "      <th>Defect</th>\n",
       "      <th>Ataxia</th>\n",
       "      <th>Conscience</th>\n",
       "      <th>Paresthesia</th>\n",
       "      <th>DPF</th>\n",
       "      <th>Type</th>\n",
       "      <th>cluster_pred</th>\n",
       "    </tr>\n",
       "  </thead>\n",
       "  <tbody>\n",
       "    <tr>\n",
       "      <th>0</th>\n",
       "      <td>30</td>\n",
       "      <td>1</td>\n",
       "      <td>5</td>\n",
       "      <td>1</td>\n",
       "      <td>1</td>\n",
       "      <td>2</td>\n",
       "      <td>1</td>\n",
       "      <td>0</td>\n",
       "      <td>1</td>\n",
       "      <td>1</td>\n",
       "      <td>...</td>\n",
       "      <td>0</td>\n",
       "      <td>0</td>\n",
       "      <td>0</td>\n",
       "      <td>0</td>\n",
       "      <td>0</td>\n",
       "      <td>0</td>\n",
       "      <td>0</td>\n",
       "      <td>0</td>\n",
       "      <td>Typical aura with migraine</td>\n",
       "      <td>0</td>\n",
       "    </tr>\n",
       "    <tr>\n",
       "      <th>1</th>\n",
       "      <td>50</td>\n",
       "      <td>3</td>\n",
       "      <td>5</td>\n",
       "      <td>1</td>\n",
       "      <td>1</td>\n",
       "      <td>3</td>\n",
       "      <td>1</td>\n",
       "      <td>1</td>\n",
       "      <td>1</td>\n",
       "      <td>1</td>\n",
       "      <td>...</td>\n",
       "      <td>0</td>\n",
       "      <td>0</td>\n",
       "      <td>0</td>\n",
       "      <td>0</td>\n",
       "      <td>0</td>\n",
       "      <td>0</td>\n",
       "      <td>0</td>\n",
       "      <td>0</td>\n",
       "      <td>Typical aura with migraine</td>\n",
       "      <td>1</td>\n",
       "    </tr>\n",
       "    <tr>\n",
       "      <th>2</th>\n",
       "      <td>53</td>\n",
       "      <td>2</td>\n",
       "      <td>1</td>\n",
       "      <td>1</td>\n",
       "      <td>1</td>\n",
       "      <td>2</td>\n",
       "      <td>1</td>\n",
       "      <td>1</td>\n",
       "      <td>1</td>\n",
       "      <td>1</td>\n",
       "      <td>...</td>\n",
       "      <td>0</td>\n",
       "      <td>0</td>\n",
       "      <td>0</td>\n",
       "      <td>0</td>\n",
       "      <td>0</td>\n",
       "      <td>0</td>\n",
       "      <td>0</td>\n",
       "      <td>0</td>\n",
       "      <td>Typical aura with migraine</td>\n",
       "      <td>1</td>\n",
       "    </tr>\n",
       "    <tr>\n",
       "      <th>3</th>\n",
       "      <td>45</td>\n",
       "      <td>3</td>\n",
       "      <td>5</td>\n",
       "      <td>1</td>\n",
       "      <td>1</td>\n",
       "      <td>3</td>\n",
       "      <td>1</td>\n",
       "      <td>0</td>\n",
       "      <td>1</td>\n",
       "      <td>1</td>\n",
       "      <td>...</td>\n",
       "      <td>0</td>\n",
       "      <td>0</td>\n",
       "      <td>0</td>\n",
       "      <td>0</td>\n",
       "      <td>0</td>\n",
       "      <td>0</td>\n",
       "      <td>0</td>\n",
       "      <td>0</td>\n",
       "      <td>Typical aura with migraine</td>\n",
       "      <td>0</td>\n",
       "    </tr>\n",
       "    <tr>\n",
       "      <th>4</th>\n",
       "      <td>53</td>\n",
       "      <td>1</td>\n",
       "      <td>1</td>\n",
       "      <td>1</td>\n",
       "      <td>1</td>\n",
       "      <td>2</td>\n",
       "      <td>1</td>\n",
       "      <td>0</td>\n",
       "      <td>1</td>\n",
       "      <td>1</td>\n",
       "      <td>...</td>\n",
       "      <td>0</td>\n",
       "      <td>0</td>\n",
       "      <td>0</td>\n",
       "      <td>0</td>\n",
       "      <td>0</td>\n",
       "      <td>0</td>\n",
       "      <td>0</td>\n",
       "      <td>1</td>\n",
       "      <td>Typical aura with migraine</td>\n",
       "      <td>0</td>\n",
       "    </tr>\n",
       "  </tbody>\n",
       "</table>\n",
       "<p>5 rows × 25 columns</p>\n",
       "</div>"
      ],
      "text/plain": [
       "   Age  Duration  Frequency  Location  Character  Intensity  Nausea  Vomit  \\\n",
       "0   30         1          5         1          1          2       1      0   \n",
       "1   50         3          5         1          1          3       1      1   \n",
       "2   53         2          1         1          1          2       1      1   \n",
       "3   45         3          5         1          1          3       1      0   \n",
       "4   53         1          1         1          1          2       1      0   \n",
       "\n",
       "   Phonophobia  Photophobia  ...  Tinnitus  Hypoacusis  Diplopia  Defect  \\\n",
       "0            1            1  ...         0           0         0       0   \n",
       "1            1            1  ...         0           0         0       0   \n",
       "2            1            1  ...         0           0         0       0   \n",
       "3            1            1  ...         0           0         0       0   \n",
       "4            1            1  ...         0           0         0       0   \n",
       "\n",
       "   Ataxia  Conscience  Paresthesia  DPF                        Type  \\\n",
       "0       0           0            0    0  Typical aura with migraine   \n",
       "1       0           0            0    0  Typical aura with migraine   \n",
       "2       0           0            0    0  Typical aura with migraine   \n",
       "3       0           0            0    0  Typical aura with migraine   \n",
       "4       0           0            0    1  Typical aura with migraine   \n",
       "\n",
       "   cluster_pred  \n",
       "0             0  \n",
       "1             1  \n",
       "2             1  \n",
       "3             0  \n",
       "4             0  \n",
       "\n",
       "[5 rows x 25 columns]"
      ]
     },
     "execution_count": 13,
     "metadata": {},
     "output_type": "execute_result"
    }
   ],
   "source": [
    "clusters.head()"
   ]
  },
  {
   "cell_type": "markdown",
   "id": "9bf8620a",
   "metadata": {
    "papermill": {
     "duration": 0.011828,
     "end_time": "2023-01-02T12:42:53.882151",
     "exception": false,
     "start_time": "2023-01-02T12:42:53.870323",
     "status": "completed"
    },
    "tags": []
   },
   "source": [
    "cluster_pred sütunu ile hangi data nereye ait artık biliyoruz"
   ]
  },
  {
   "cell_type": "markdown",
   "id": "2a498210",
   "metadata": {
    "papermill": {
     "duration": 0.011814,
     "end_time": "2023-01-02T12:42:53.906246",
     "exception": false,
     "start_time": "2023-01-02T12:42:53.894432",
     "status": "completed"
    },
    "tags": []
   },
   "source": [
    "Verileri yakılığa göre sınıflandıralım KNN ile ve yaptığımız kümelemenin doğruluğuna bakalım."
   ]
  },
  {
   "cell_type": "code",
   "execution_count": null,
   "id": "2fb2c194",
   "metadata": {
    "execution": {
     "iopub.execute_input": "2023-01-02T12:42:53.932319Z",
     "iopub.status.busy": "2023-01-02T12:42:53.931812Z",
     "iopub.status.idle": "2023-01-02T12:42:53.947042Z",
     "shell.execute_reply": "2023-01-02T12:42:53.945389Z"
    },
    "papermill": {
     "duration": 0.031389,
     "end_time": "2023-01-02T12:42:53.949829",
     "exception": false,
     "start_time": "2023-01-02T12:42:53.918440",
     "status": "completed"
    },
    "tags": []
   },
   "outputs": [
    {
     "data": {
      "text/html": [
       "<div>\n",
       "<style scoped>\n",
       "    .dataframe tbody tr th:only-of-type {\n",
       "        vertical-align: middle;\n",
       "    }\n",
       "\n",
       "    .dataframe tbody tr th {\n",
       "        vertical-align: top;\n",
       "    }\n",
       "\n",
       "    .dataframe thead th {\n",
       "        text-align: right;\n",
       "    }\n",
       "</style>\n",
       "<table border=\"1\" class=\"dataframe\">\n",
       "  <thead>\n",
       "    <tr style=\"text-align: right;\">\n",
       "      <th></th>\n",
       "      <th>Age</th>\n",
       "      <th>Duration</th>\n",
       "      <th>Frequency</th>\n",
       "      <th>Nausea</th>\n",
       "      <th>Vomit</th>\n",
       "      <th>Visual</th>\n",
       "      <th>Vertigo</th>\n",
       "    </tr>\n",
       "  </thead>\n",
       "  <tbody>\n",
       "    <tr>\n",
       "      <th>0</th>\n",
       "      <td>30</td>\n",
       "      <td>1</td>\n",
       "      <td>5</td>\n",
       "      <td>1</td>\n",
       "      <td>0</td>\n",
       "      <td>1</td>\n",
       "      <td>0</td>\n",
       "    </tr>\n",
       "    <tr>\n",
       "      <th>1</th>\n",
       "      <td>50</td>\n",
       "      <td>3</td>\n",
       "      <td>5</td>\n",
       "      <td>1</td>\n",
       "      <td>1</td>\n",
       "      <td>2</td>\n",
       "      <td>1</td>\n",
       "    </tr>\n",
       "    <tr>\n",
       "      <th>2</th>\n",
       "      <td>53</td>\n",
       "      <td>2</td>\n",
       "      <td>1</td>\n",
       "      <td>1</td>\n",
       "      <td>1</td>\n",
       "      <td>2</td>\n",
       "      <td>0</td>\n",
       "    </tr>\n",
       "    <tr>\n",
       "      <th>3</th>\n",
       "      <td>45</td>\n",
       "      <td>3</td>\n",
       "      <td>5</td>\n",
       "      <td>1</td>\n",
       "      <td>0</td>\n",
       "      <td>2</td>\n",
       "      <td>1</td>\n",
       "    </tr>\n",
       "    <tr>\n",
       "      <th>4</th>\n",
       "      <td>53</td>\n",
       "      <td>1</td>\n",
       "      <td>1</td>\n",
       "      <td>1</td>\n",
       "      <td>0</td>\n",
       "      <td>4</td>\n",
       "      <td>0</td>\n",
       "    </tr>\n",
       "  </tbody>\n",
       "</table>\n",
       "</div>"
      ],
      "text/plain": [
       "   Age  Duration  Frequency  Nausea  Vomit  Visual  Vertigo\n",
       "0   30         1          5       1      0       1        0\n",
       "1   50         3          5       1      1       2        1\n",
       "2   53         2          1       1      1       2        0\n",
       "3   45         3          5       1      0       2        1\n",
       "4   53         1          1       1      0       4        0"
      ]
     },
     "execution_count": 14,
     "metadata": {},
     "output_type": "execute_result"
    }
   ],
   "source": [
    "# Bağımlı ve bağımsız değişkenlere göre ayıralım\n",
    "x1=clusters[['Age','Duration','Frequency','Nausea','Vomit','Visual','Vertigo']]\n",
    "y1=clusters['cluster_pred']\n",
    "x1.head()"
   ]
  },
  {
   "cell_type": "code",
   "execution_count": null,
   "id": "fbd44000",
   "metadata": {
    "execution": {
     "iopub.execute_input": "2023-01-02T12:42:53.977324Z",
     "iopub.status.busy": "2023-01-02T12:42:53.975808Z",
     "iopub.status.idle": "2023-01-02T12:42:53.992500Z",
     "shell.execute_reply": "2023-01-02T12:42:53.991204Z"
    },
    "papermill": {
     "duration": 0.033035,
     "end_time": "2023-01-02T12:42:53.995352",
     "exception": false,
     "start_time": "2023-01-02T12:42:53.962317",
     "status": "completed"
    },
    "tags": []
   },
   "outputs": [
    {
     "data": {
      "text/plain": [
       "KNeighborsClassifier(n_jobs=1, n_neighbors=6)"
      ]
     },
     "execution_count": 15,
     "metadata": {},
     "output_type": "execute_result"
    }
   ],
   "source": [
    "# K-Means Modelini oluşturalım\n",
    "from sklearn.neighbors import KNeighborsClassifier\n",
    "en_yakin=KNeighborsClassifier(n_neighbors=6)\n",
    "en_yakin.fit(x1,y1)\n",
    "KNeighborsClassifier(algorithm='auto',leaf_size=30,metric=\"minkowski\",metric_params=None,n_jobs=1,n_neighbors=6,p=2,weights='uniform')"
   ]
  },
  {
   "cell_type": "markdown",
   "id": "8b82968f",
   "metadata": {
    "papermill": {
     "duration": 0.011582,
     "end_time": "2023-01-02T12:42:54.019097",
     "exception": false,
     "start_time": "2023-01-02T12:42:54.007515",
     "status": "completed"
    },
    "tags": []
   },
   "source": [
    "En yakın modelle veri setini tahmin ettirelim."
   ]
  },
  {
   "cell_type": "code",
   "execution_count": null,
   "id": "b985bc3a",
   "metadata": {
    "execution": {
     "iopub.execute_input": "2023-01-02T12:42:54.045760Z",
     "iopub.status.busy": "2023-01-02T12:42:54.045324Z",
     "iopub.status.idle": "2023-01-02T12:42:54.068591Z",
     "shell.execute_reply": "2023-01-02T12:42:54.067592Z"
    },
    "papermill": {
     "duration": 0.039837,
     "end_time": "2023-01-02T12:42:54.071065",
     "exception": false,
     "start_time": "2023-01-02T12:42:54.031228",
     "status": "completed"
    },
    "tags": []
   },
   "outputs": [
    {
     "data": {
      "text/plain": [
       "array([0, 0, 0, 0, 0, 0, 0, 0, 0, 1, 1, 0, 0, 1, 0, 0, 0, 0, 0, 1, 0, 1,\n",
       "       1, 0, 0, 1, 0, 0, 0, 0, 0, 1, 0, 0, 0, 0, 0, 1, 0, 1, 1, 0, 1, 0,\n",
       "       0, 1, 0, 1, 1, 0, 0, 1, 1, 1, 0, 1, 0, 0, 0, 0, 0, 0, 1, 0, 0, 0,\n",
       "       0, 0, 1, 0, 0, 0, 0, 0, 1, 1, 0, 0, 0, 0, 1, 1, 1, 0, 0, 0, 0, 0,\n",
       "       1, 1, 0, 0, 0, 0, 0, 0, 0, 0, 0, 1, 0, 0, 0, 0, 0, 0, 1, 0, 1, 0,\n",
       "       1, 1, 0, 1, 0, 0, 0, 0, 0, 0, 0, 1, 0, 0, 0, 0, 0, 0, 0, 0, 0, 1,\n",
       "       0, 0, 0, 0, 0, 0, 0, 0, 0, 0, 0, 0, 0, 0, 0, 0, 0, 0, 0, 0, 0, 0,\n",
       "       0, 0, 0, 0, 1, 0, 0, 0, 0, 1, 1, 0, 0, 1, 0, 1, 1, 0, 0, 0, 0, 0,\n",
       "       0, 0, 0, 0, 0, 0, 0, 0, 0, 0, 0, 0, 0, 0, 0, 0, 0, 0, 0, 0, 0, 0,\n",
       "       0, 0, 0, 0, 0, 0, 0, 0, 0, 0, 0, 1, 0, 0, 0, 0, 0, 0, 0, 0, 0, 1,\n",
       "       0, 0, 0, 0, 0, 0, 0, 0, 0, 0, 0, 1, 0, 1, 0, 0, 0, 0, 0, 0, 1, 0,\n",
       "       0, 0, 0, 0, 0, 0, 0, 0, 0, 1, 0, 0, 0, 0, 1, 0, 0, 0, 0, 0, 0, 1,\n",
       "       0, 0, 0, 0, 0, 0, 0, 0, 0, 0, 0, 0, 0, 0, 0, 0, 0, 0, 0, 0, 0, 0,\n",
       "       0, 0, 0, 0, 0, 1, 0, 0, 0, 0, 0, 0, 1, 0, 0, 0, 0, 0, 0, 0, 0, 0,\n",
       "       0, 0, 0, 0, 1, 0, 0, 0, 0, 0, 1, 0, 0, 0, 1, 0, 0, 0, 0, 0, 0, 0,\n",
       "       0, 0, 1, 1, 0, 0, 0, 0, 0, 0, 1, 0, 0, 1, 0, 0, 0, 0, 0, 0, 0, 0,\n",
       "       1, 0, 1, 0, 0, 0, 0, 0, 0, 0, 1, 0, 0, 0, 0, 1, 0, 1, 0, 0, 0, 1,\n",
       "       0, 0, 0, 1, 0, 0, 0, 0, 0, 0, 0, 0, 1, 1, 1, 0, 0, 0, 0, 0, 0, 1,\n",
       "       0, 0, 0, 0], dtype=int32)"
      ]
     },
     "execution_count": 16,
     "metadata": {},
     "output_type": "execute_result"
    }
   ],
   "source": [
    "tahmin2=en_yakin.predict(x1)\n",
    "tahmin2"
   ]
  },
  {
   "cell_type": "markdown",
   "id": "b8e88b6a",
   "metadata": {
    "papermill": {
     "duration": 0.012708,
     "end_time": "2023-01-02T12:42:54.097203",
     "exception": false,
     "start_time": "2023-01-02T12:42:54.084495",
     "status": "completed"
    },
    "tags": []
   },
   "source": [
    "kümelenmiş değerler ile buradan aldığımız değerleri karşılaştıralım"
   ]
  },
  {
   "cell_type": "code",
   "execution_count": null,
   "id": "cb2defb6",
   "metadata": {
    "execution": {
     "iopub.execute_input": "2023-01-02T12:42:54.124974Z",
     "iopub.status.busy": "2023-01-02T12:42:54.124531Z",
     "iopub.status.idle": "2023-01-02T12:42:54.143290Z",
     "shell.execute_reply": "2023-01-02T12:42:54.141993Z"
    },
    "papermill": {
     "duration": 0.035032,
     "end_time": "2023-01-02T12:42:54.145802",
     "exception": false,
     "start_time": "2023-01-02T12:42:54.110770",
     "status": "completed"
    },
    "tags": []
   },
   "outputs": [
    {
     "data": {
      "text/html": [
       "<div>\n",
       "<style scoped>\n",
       "    .dataframe tbody tr th:only-of-type {\n",
       "        vertical-align: middle;\n",
       "    }\n",
       "\n",
       "    .dataframe tbody tr th {\n",
       "        vertical-align: top;\n",
       "    }\n",
       "\n",
       "    .dataframe thead th {\n",
       "        text-align: right;\n",
       "    }\n",
       "</style>\n",
       "<table border=\"1\" class=\"dataframe\">\n",
       "  <thead>\n",
       "    <tr style=\"text-align: right;\">\n",
       "      <th></th>\n",
       "      <th>y</th>\n",
       "      <th>Tahmin y</th>\n",
       "      <th>aynımı</th>\n",
       "    </tr>\n",
       "  </thead>\n",
       "  <tbody>\n",
       "    <tr>\n",
       "      <th>0</th>\n",
       "      <td>0</td>\n",
       "      <td>0</td>\n",
       "      <td>True</td>\n",
       "    </tr>\n",
       "    <tr>\n",
       "      <th>1</th>\n",
       "      <td>1</td>\n",
       "      <td>0</td>\n",
       "      <td>False</td>\n",
       "    </tr>\n",
       "    <tr>\n",
       "      <th>2</th>\n",
       "      <td>1</td>\n",
       "      <td>0</td>\n",
       "      <td>False</td>\n",
       "    </tr>\n",
       "    <tr>\n",
       "      <th>3</th>\n",
       "      <td>0</td>\n",
       "      <td>0</td>\n",
       "      <td>True</td>\n",
       "    </tr>\n",
       "    <tr>\n",
       "      <th>4</th>\n",
       "      <td>0</td>\n",
       "      <td>0</td>\n",
       "      <td>True</td>\n",
       "    </tr>\n",
       "    <tr>\n",
       "      <th>...</th>\n",
       "      <td>...</td>\n",
       "      <td>...</td>\n",
       "      <td>...</td>\n",
       "    </tr>\n",
       "    <tr>\n",
       "      <th>395</th>\n",
       "      <td>1</td>\n",
       "      <td>1</td>\n",
       "      <td>True</td>\n",
       "    </tr>\n",
       "    <tr>\n",
       "      <th>396</th>\n",
       "      <td>0</td>\n",
       "      <td>0</td>\n",
       "      <td>True</td>\n",
       "    </tr>\n",
       "    <tr>\n",
       "      <th>397</th>\n",
       "      <td>0</td>\n",
       "      <td>0</td>\n",
       "      <td>True</td>\n",
       "    </tr>\n",
       "    <tr>\n",
       "      <th>398</th>\n",
       "      <td>0</td>\n",
       "      <td>0</td>\n",
       "      <td>True</td>\n",
       "    </tr>\n",
       "    <tr>\n",
       "      <th>399</th>\n",
       "      <td>1</td>\n",
       "      <td>0</td>\n",
       "      <td>False</td>\n",
       "    </tr>\n",
       "  </tbody>\n",
       "</table>\n",
       "<p>400 rows × 3 columns</p>\n",
       "</div>"
      ],
      "text/plain": [
       "     y  Tahmin y  aynımı\n",
       "0    0         0    True\n",
       "1    1         0   False\n",
       "2    1         0   False\n",
       "3    0         0    True\n",
       "4    0         0    True\n",
       "..  ..       ...     ...\n",
       "395  1         1    True\n",
       "396  0         0    True\n",
       "397  0         0    True\n",
       "398  0         0    True\n",
       "399  1         0   False\n",
       "\n",
       "[400 rows x 3 columns]"
      ]
     },
     "execution_count": 17,
     "metadata": {},
     "output_type": "execute_result"
    }
   ],
   "source": [
    "np.array(y1)\n",
    "df=pd.DataFrame(np.array(y1), columns=['y'])\n",
    "df['Tahmin y']=tahmin2\n",
    "df['aynımı']=df['y']==df['Tahmin y']\n",
    "df\n",
    "# y ler k means ile kümelenen / tahmin y ise en yakın komşu modelinden gelen"
   ]
  },
  {
   "cell_type": "code",
   "execution_count": null,
   "id": "7cf9d72f",
   "metadata": {
    "execution": {
     "iopub.execute_input": "2023-01-02T12:42:54.173962Z",
     "iopub.status.busy": "2023-01-02T12:42:54.173543Z",
     "iopub.status.idle": "2023-01-02T12:42:54.184370Z",
     "shell.execute_reply": "2023-01-02T12:42:54.182828Z"
    },
    "papermill": {
     "duration": 0.028682,
     "end_time": "2023-01-02T12:42:54.187728",
     "exception": false,
     "start_time": "2023-01-02T12:42:54.159046",
     "status": "completed"
    },
    "tags": []
   },
   "outputs": [
    {
     "name": "stdout",
     "output_type": "stream",
     "text": [
      "True     0.8325\n",
      "False    0.1675\n",
      "Name: aynımı, dtype: float64\n"
     ]
    }
   ],
   "source": [
    "print(df.aynımı.value_counts('%'))"
   ]
  },
  {
   "cell_type": "markdown",
   "id": "3be7cd8e",
   "metadata": {
    "papermill": {
     "duration": 0.014655,
     "end_time": "2023-01-02T12:42:54.216543",
     "exception": false,
     "start_time": "2023-01-02T12:42:54.201888",
     "status": "completed"
    },
    "tags": []
   },
   "source": [
    "%83 oranında doğruluk değeri var. "
   ]
  },
  {
   "cell_type": "markdown",
   "id": "24c1f78c",
   "metadata": {
    "papermill": {
     "duration": 0.012964,
     "end_time": "2023-01-02T12:42:54.242965",
     "exception": false,
     "start_time": "2023-01-02T12:42:54.230001",
     "status": "completed"
    },
    "tags": []
   },
   "source": [
    "Sonuç olarak bu modeli kullanırsak kümelemenin doğruluk oranı yükseldiğinden aynı zamanda migren tahmini yükselir. "
   ]
  },
  {
   "cell_type": "code",
   "execution_count": null,
   "id": "2571f8ac",
   "metadata": {
    "execution": {
     "iopub.execute_input": "2023-01-02T12:42:54.271936Z",
     "iopub.status.busy": "2023-01-02T12:42:54.270898Z",
     "iopub.status.idle": "2023-01-02T12:42:54.728292Z",
     "shell.execute_reply": "2023-01-02T12:42:54.727349Z"
    },
    "papermill": {
     "duration": 0.474659,
     "end_time": "2023-01-02T12:42:54.731087",
     "exception": false,
     "start_time": "2023-01-02T12:42:54.256428",
     "status": "completed"
    },
    "tags": []
   },
   "outputs": [],
   "source": [
    "df.to_excel(\"output.xlsx\")"
   ]
  },
  {
   "cell_type": "code",
   "execution_count": null,
   "id": "10643e37",
   "metadata": {
    "execution": {
     "iopub.execute_input": "2023-01-02T12:42:54.760841Z",
     "iopub.status.busy": "2023-01-02T12:42:54.759579Z",
     "iopub.status.idle": "2023-01-02T12:42:54.773830Z",
     "shell.execute_reply": "2023-01-02T12:42:54.772911Z"
    },
    "papermill": {
     "duration": 0.031377,
     "end_time": "2023-01-02T12:42:54.776054",
     "exception": false,
     "start_time": "2023-01-02T12:42:54.744677",
     "status": "completed"
    },
    "tags": []
   },
   "outputs": [
    {
     "name": "stdout",
     "output_type": "stream",
     "text": [
      "Tahmin: [0]\n",
      "Tahmin Olasılığı: [[0.66666667 0.33333333]]\n"
     ]
    },
    {
     "name": "stderr",
     "output_type": "stream",
     "text": [
      "/opt/conda/lib/python3.7/site-packages/sklearn/base.py:451: UserWarning: X does not have valid feature names, but KNeighborsClassifier was fitted with feature names\n",
      "  \"X does not have valid feature names, but\"\n",
      "/opt/conda/lib/python3.7/site-packages/sklearn/base.py:451: UserWarning: X does not have valid feature names, but KNeighborsClassifier was fitted with feature names\n",
      "  \"X does not have valid feature names, but\"\n"
     ]
    }
   ],
   "source": [
    "# bir hastanın yeni verilerle hangi gruba dahil olduğuna bakalım\n",
    "hasta_1 = np.array([[30,3,5,1,1,2,0]])\n",
    "# age,duration,frequency,nausea,vomit,visual,vertigo\n",
    "tahmin=en_yakin.predict(hasta_1)\n",
    "tahmin_olasilik=en_yakin.predict_proba(hasta_1)\n",
    "print('Tahmin:',tahmin)\n",
    "print('Tahmin Olasılığı:', tahmin_olasilik)"
   ]
  }
 ],
 "metadata": {
  "kernelspec": {
   "display_name": "Python 3",
   "language": "python",
   "name": "python3"
  },
  "language_info": {
   "codemirror_mode": {
    "name": "ipython",
    "version": 3
   },
   "file_extension": ".py",
   "mimetype": "text/x-python",
   "name": "python",
   "nbconvert_exporter": "python",
   "pygments_lexer": "ipython3",
   "version": "3.10.9 (tags/v3.10.9:1dd9be6, Dec  6 2022, 20:01:21) [MSC v.1934 64 bit (AMD64)]"
  },
  "papermill": {
   "default_parameters": {},
   "duration": 15.811611,
   "end_time": "2023-01-02T12:42:55.712583",
   "environment_variables": {},
   "exception": null,
   "input_path": "__notebook__.ipynb",
   "output_path": "__notebook__.ipynb",
   "parameters": {},
   "start_time": "2023-01-02T12:42:39.900972",
   "version": "2.3.4"
  },
  "vscode": {
   "interpreter": {
    "hash": "65dd35664e6e2f269bac687a4d1c0f02eaaf94b1b7698947af646b1456d8e3e5"
   }
  }
 },
 "nbformat": 4,
 "nbformat_minor": 5
}
